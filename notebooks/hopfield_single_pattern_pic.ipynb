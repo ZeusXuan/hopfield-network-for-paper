{
 "cells": [
  {
   "cell_type": "code",
   "execution_count": 1,
   "metadata": {},
   "outputs": [],
   "source": [
    "import numpy as np\n",
    "import matplotlib.pyplot as plt\n",
    "from PIL import Image\n",
    "from tqdm import tqdm"
   ]
  },
  {
   "cell_type": "code",
   "execution_count": 2,
   "metadata": {},
   "outputs": [
    {
     "data": {
      "text/plain": [
       "<matplotlib.image.AxesImage at 0x7f9103581080>"
      ]
     },
     "execution_count": 2,
     "metadata": {},
     "output_type": "execute_result"
    },
    {
     "data": {
      "image/png": "[encoded data removed]",
      "text/plain": [
       "<Figure size 432x288 with 1 Axes>"
      ]
     },
     "metadata": {
      "needs_background": "light"
     },
     "output_type": "display_data"
    }
   ],
   "source": [
    "im = Image.open('../data/beautiful_me/me.jpeg')\n",
    "size = 64, 64\n",
    "im.thumbnail(size, Image.ANTIALIAS)\n",
    "im_np = np.asarray(im)\n",
    "im_np = np.where(im_np<128, -1, 1)\n",
    "plt.imshow(im_np, cmap='gray')"
   ]
  },
  {
   "cell_type": "code",
   "execution_count": 3,
   "metadata": {},
   "outputs": [],
   "source": [
    "N = im_np.shape[0]*im_np.shape[1]\n",
    "P = 1\n",
    "N_sqrt = np.sqrt(N).astype('int32')\n",
    "NO_OF_ITERATIONS = 10"
   ]
  },
  {
   "cell_type": "code",
   "execution_count": 4,
   "metadata": {},
   "outputs": [],
   "source": [
    "im_np = im_np.reshape(1, N)\n",
    "epsilon = im_np"
   ]
  },
  {
   "cell_type": "code",
   "execution_count": 5,
   "metadata": {},
   "outputs": [
    {
     "data": {
      "text/plain": [
       "array([[-1, -1, -1, ...,  1,  1, -1]])"
      ]
     },
     "execution_count": 5,
     "metadata": {},
     "output_type": "execute_result"
    }
   ],
   "source": [
    "epsilon"
   ]
  },
  {
   "cell_type": "code",
   "execution_count": 6,
   "metadata": {},
   "outputs": [
    {
     "data": {
      "text/plain": [
       "array([[-1, -1, -1, ..., -1, -1, -1],\n",
       "       [-1, -1, -1, ...,  1, -1, -1],\n",
       "       [-1, -1, -1, ...,  1,  1,  1],\n",
       "       ...,\n",
       "       [-1, -1, -1, ...,  1,  1, -1],\n",
       "       [-1, -1, -1, ...,  1,  1, -1],\n",
       "       [-1, -1, -1, ...,  1,  1, -1]])"
      ]
     },
     "execution_count": 6,
     "metadata": {},
     "output_type": "execute_result"
    }
   ],
   "source": [
    "epsilon.reshape(N_sqrt, N_sqrt)"
   ]
  },
  {
   "cell_type": "code",
   "execution_count": 7,
   "metadata": {},
   "outputs": [
    {
     "data": {
      "text/plain": [
       "<matplotlib.image.AxesImage at 0x7f90d79dda90>"
      ]
     },
     "execution_count": 7,
     "metadata": {},
     "output_type": "execute_result"
    },
    {
     "data": {
      "image/png": "[encoded data removed]",
      "text/plain": [
       "<Figure size 432x288 with 1 Axes>"
      ]
     },
     "metadata": {
      "needs_background": "light"
     },
     "output_type": "display_data"
    }
   ],
   "source": [
    "im = Image.open('../data/beautiful_me/me_half_masked.jpeg')\n",
    "im.thumbnail(size, Image.ANTIALIAS)\n",
    "im_masked_np = np.asarray(im)\n",
    "try:\n",
    "    im_masked_np = im_masked_np[:, :, 0]\n",
    "except IndexError:\n",
    "    pass\n",
    "im_masked_np = np.where(im_masked_np<128, -1, 1)\n",
    "im_masked_np = im_masked_np.reshape(1, N)\n",
    "test_array = im_masked_np\n",
    "plt.imshow(test_array.reshape(N_sqrt, N_sqrt), cmap='gray')"
   ]
  },
  {
   "cell_type": "code",
   "execution_count": 8,
   "metadata": {},
   "outputs": [
    {
     "name": "stderr",
     "output_type": "stream",
     "text": [
      "100%|██████████| 4096/4096 [00:08<00:00, 510.84it/s]\n"
     ]
    },
    {
     "data": {
      "text/plain": [
       "array([[ 0.        ,  0.00024414,  0.00024414, ..., -0.00024414,\n",
       "        -0.00024414,  0.00024414],\n",
       "       [ 0.00024414,  0.        ,  0.00024414, ..., -0.00024414,\n",
       "        -0.00024414,  0.00024414],\n",
       "       [ 0.00024414,  0.00024414,  0.        , ..., -0.00024414,\n",
       "        -0.00024414,  0.00024414],\n",
       "       ...,\n",
       "       [-0.00024414, -0.00024414, -0.00024414, ...,  0.        ,\n",
       "         0.00024414, -0.00024414],\n",
       "       [-0.00024414, -0.00024414, -0.00024414, ...,  0.00024414,\n",
       "         0.        , -0.00024414],\n",
       "       [ 0.00024414,  0.00024414,  0.00024414, ..., -0.00024414,\n",
       "        -0.00024414,  0.        ]])"
      ]
     },
     "execution_count": 8,
     "metadata": {},
     "output_type": "execute_result"
    }
   ],
   "source": [
    "w = np.zeros((N, N))\n",
    "h = np.zeros((N))\n",
    "for i in tqdm(range(N)):\n",
    "    for j in range(N):\n",
    "        w[i, j] = (epsilon[0, i]*epsilon[0, j])\n",
    "        if i==j:\n",
    "            w[i, j] = 0\n",
    "w /= N\n",
    "w"
   ]
  },
  {
   "cell_type": "code",
   "execution_count": 9,
   "metadata": {},
   "outputs": [
    {
     "data": {
      "text/plain": [
       "<matplotlib.image.AxesImage at 0x7f90cf15f710>"
      ]
     },
     "execution_count": 9,
     "metadata": {},
     "output_type": "execute_result"
    },
    {
     "data": {
      "image/png": "[encoded data removed]",
      "text/plain": [
       "<Figure size 432x288 with 1 Axes>"
      ]
     },
     "metadata": {
      "needs_background": "light"
     },
     "output_type": "display_data"
    }
   ],
   "source": [
    "plt.imshow(w)"
   ]
  },
  {
   "cell_type": "code",
   "execution_count": 10,
   "metadata": {},
   "outputs": [
    {
     "data": {
      "text/plain": [
       "(1, 4096)"
      ]
     },
     "execution_count": 10,
     "metadata": {},
     "output_type": "execute_result"
    }
   ],
   "source": [
    "test_array.shape"
   ]
  },
  {
   "cell_type": "code",
   "execution_count": 11,
   "metadata": {},
   "outputs": [
    {
     "name": "stderr",
     "output_type": "stream",
     "text": [
      "100%|██████████| 10/10 [01:40<00:00, 10.19s/it]\n"
     ]
    },
    {
     "data": {
      "text/plain": [
       "array([[ 404.],\n",
       "       [2745.],\n",
       "       [3626.],\n",
       "       [3919.],\n",
       "       [4032.],\n",
       "       [4075.],\n",
       "       [4088.],\n",
       "       [4091.],\n",
       "       [4094.],\n",
       "       [4095.]])"
      ]
     },
     "execution_count": 11,
     "metadata": {},
     "output_type": "execute_result"
    },
    {
     "data": {
      "image/png": "[encoded data removed]",
      "text/plain": [
       "<Figure size 576x576 with 10 Axes>"
      ]
     },
     "metadata": {
      "needs_background": "light"
     },
     "output_type": "display_data"
    }
   ],
   "source": [
    "fig = plt.figure(figsize = (8, 8))\n",
    "fig.subplots_adjust(hspace=0.1, wspace=0.1)\n",
    "hamming_distance = np.zeros((NO_OF_ITERATIONS, 1))\n",
    "# print(test_array.shape)\n",
    "for iteration in tqdm(range(NO_OF_ITERATIONS)):\n",
    "    for i in range(N):\n",
    "        i = np.random.randint(N)\n",
    "        h[i] = 0\n",
    "        for j in range(N):\n",
    "            h[i] = w[i, j]*test_array[0, j]\n",
    "    test_array = (np.where(h<0, -1, 1)).reshape(1, N)\n",
    "\n",
    "    hamming_distance[iteration, 0] = ((epsilon - test_array)!=0).sum()\n",
    "    plt.subplot(4, 3,iteration+1)\n",
    "    plt.imshow(np.where(test_array.reshape(N_sqrt, N_sqrt)<1, 0, 256), cmap='gray')\n",
    "hamming_distance"
   ]
  },
  {
   "cell_type": "code",
   "execution_count": 12,
   "metadata": {},
   "outputs": [
    {
     "data": {
      "image/png": "[encoded data removed]",
      "text/plain": [
       "<Figure size 576x576 with 1 Axes>"
      ]
     },
     "metadata": {
      "needs_background": "light"
     },
     "output_type": "display_data"
    }
   ],
   "source": [
    "fig = plt.figure(figsize = (8, 8))\n",
    "plt.plot(hamming_distance)\n",
    "plt.xlabel('No of Iterations')\n",
    "plt.ylabel('Hamming Distance')\n",
    "plt.ylim([0, 4096])\n",
    "plt.legend(['pattern 1', 'pattern 2', 'pattern 3', 'pattern 4', 'pattern 5', 'pattern 6', 'pattern 7', 'pattern 8', 'pattern 9', 'pattern 10'],  loc='best')\n",
    "plt.show()"
   ]
  },
  {
   "cell_type": "code",
   "execution_count": null,
   "metadata": {},
   "outputs": [],
   "source": []
  }
 ],
 "metadata": {
  "kernelspec": {
   "display_name": "Python 3",
   "language": "python",
   "name": "python3"
  },
  "language_info": {
   "codemirror_mode": {
    "name": "ipython",
    "version": 3
   },
   "file_extension": ".py",
   "mimetype": "text/x-python",
   "name": "python",
   "nbconvert_exporter": "python",
   "pygments_lexer": "ipython3",
   "version": "3.7.0"
  }
 },
 "nbformat": 4,
 "nbformat_minor": 2
}
